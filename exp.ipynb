{
 "cells": [
  {
   "cell_type": "code",
   "execution_count": 12,
   "metadata": {
    "collapsed": true
   },
   "outputs": [
    {
     "name": "stdout",
     "output_type": "stream",
     "text": [
      "[(231, 854, 498, 587)]\n[{'left_eyebrow': [(629, 289), (645, 275), (668, 275), (690, 281), (710, 289)], 'right_eyebrow': [(741, 288), (763, 279), (785, 274), (808, 276), (825, 290)], 'left_eye': [(651, 316), (664, 308), (680, 309), (694, 319), (679, 323), (663, 323)], 'bottom_lip': [(773, 430), (753, 445), (737, 450), (724, 451), (713, 450), (697, 444), (680, 428), (688, 430), (714, 431), (725, 433), (736, 432), (765, 431)], 'chin': [(612, 312), (612, 343), (615, 372), (622, 402), (630, 431), (645, 458), (666, 481), (693, 499), (725, 505), (758, 500), (787, 483), (809, 461), (826, 435), (836, 407), (843, 377), (847, 346), (847, 316)], 'top_lip': [(680, 428), (699, 422), (715, 419), (725, 423), (737, 420), (753, 424), (773, 430), (765, 431), (737, 431), (725, 432), (714, 431), (688, 430)], 'right_eye': [(758, 320), (772, 309), (788, 309), (802, 317), (789, 323), (773, 324)], 'nose_bridge': [(726, 309), (726, 329), (726, 349), (726, 370)], 'nose_tip': [(700, 389), (713, 393), (725, 397), (739, 394), (751, 391)]}]\n"
     ]
    },
    {
     "name": "stdout",
     "output_type": "stream",
     "text": [
      "[ 0.3014558]\n[True]\n"
     ]
    }
   ],
   "source": [
    "import face_recognition\n",
    "known_image = face_recognition.load_image_file(\"./sbi_hackathon/sbi1.jpg\")\n",
    "unknown_image = face_recognition.load_image_file(\"./sbi_hackathon/date.jpg\")\n",
    "face_locations = face_recognition.face_locations(known_image)\n",
    "face_landmarks_list = face_recognition.face_landmarks(known_image)\n",
    "print(face_locations)\n",
    "print(face_landmarks_list)\n",
    "biden_encoding = face_recognition.face_encodings(known_image)[0]\n",
    "unknown_encoding = face_recognition.face_encodings(unknown_image)[0]\n",
    "results = face_recognition.compare_faces([biden_encoding], unknown_encoding)\n",
    "face_distances = face_recognition.face_distance([biden_encoding], unknown_encoding)\n",
    "print(face_distances)\n",
    "print(results)"
   ]
  },
  {
   "cell_type": "code",
   "execution_count": null,
   "metadata": {},
   "outputs": [],
   "source": [
    ""
   ]
  }
 ],
 "metadata": {
  "kernelspec": {
   "display_name": "Python 2",
   "language": "python",
   "name": "python2"
  },
  "language_info": {
   "codemirror_mode": {
    "name": "ipython",
    "version": 2.0
   },
   "file_extension": ".py",
   "mimetype": "text/x-python",
   "name": "python",
   "nbconvert_exporter": "python",
   "pygments_lexer": "ipython2",
   "version": "2.7.6"
  }
 },
 "nbformat": 4,
 "nbformat_minor": 0
}